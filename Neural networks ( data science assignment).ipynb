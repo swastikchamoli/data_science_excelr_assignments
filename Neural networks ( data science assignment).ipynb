{
 "cells": [
  {
   "cell_type": "code",
   "execution_count": 49,
   "id": "a6330c83",
   "metadata": {},
   "outputs": [],
   "source": [
    "import pandas as pd\n",
    "from sklearn.preprocessing import StandardScaler, LabelEncoder\n",
    "from sklearn.model_selection import train_test_split\n",
    "\n",
    "# Load the dataset\n",
    "file_path = 'C:/Users/Acer/Desktop/Data Sci Assignments/Neural networks/Alphabets_data.csv'\n",
    "data = pd.read_csv(file_path)\n",
    "\n",
    "# Normalize the feature columns\n",
    "scaler = StandardScaler()\n",
    "features = data.drop('letter', axis=1)\n",
    "features_scaled = scaler.fit_transform(features)\n",
    "\n",
    "# Encode the target variable\n",
    "encoder = LabelEncoder()\n",
    "target = encoder.fit_transform(data['letter'])\n",
    "\n",
    "# Combine the normalized features with the target variable\n",
    "data_processed = pd.DataFrame(features_scaled, columns=features.columns)\n",
    "data_processed['class'] = target\n",
    "\n",
    "# Split the dataset into training and test sets\n",
    "X = data_processed.drop('class', axis=1)\n",
    "y = data_processed['class']\n",
    "X_train, X_test, y_train, y_test = train_test_split(X, y, test_size=0.2, random_state=42)\n"
   ]
  },
  {
   "cell_type": "code",
   "execution_count": 50,
   "id": "f12391dd",
   "metadata": {},
   "outputs": [
    {
     "name": "stdout",
     "output_type": "stream",
     "text": [
      "Epoch 1/50\n"
     ]
    },
    {
     "name": "stderr",
     "output_type": "stream",
     "text": [
      "C:\\Users\\Acer\\anaconda3\\lib\\site-packages\\keras\\src\\layers\\core\\dense.py:87: UserWarning: Do not pass an `input_shape`/`input_dim` argument to a layer. When using Sequential models, prefer using an `Input(shape)` object as the first layer in the model instead.\n",
      "  super().__init__(activity_regularizer=activity_regularizer, **kwargs)\n"
     ]
    },
    {
     "name": "stdout",
     "output_type": "stream",
     "text": [
      "\u001b[1m1600/1600\u001b[0m \u001b[32m━━━━━━━━━━━━━━━━━━━━\u001b[0m\u001b[37m\u001b[0m \u001b[1m3s\u001b[0m 1ms/step - accuracy: 0.4432 - loss: 2.0991 - val_accuracy: 0.7705 - val_loss: 0.8944\n",
      "Epoch 2/50\n",
      "\u001b[1m1600/1600\u001b[0m \u001b[32m━━━━━━━━━━━━━━━━━━━━\u001b[0m\u001b[37m\u001b[0m \u001b[1m2s\u001b[0m 1ms/step - accuracy: 0.7788 - loss: 0.8216 - val_accuracy: 0.8240 - val_loss: 0.6627\n",
      "Epoch 3/50\n",
      "\u001b[1m1600/1600\u001b[0m \u001b[32m━━━━━━━━━━━━━━━━━━━━\u001b[0m\u001b[37m\u001b[0m \u001b[1m2s\u001b[0m 1ms/step - accuracy: 0.8287 - loss: 0.6255 - val_accuracy: 0.8495 - val_loss: 0.5498\n",
      "Epoch 4/50\n",
      "\u001b[1m1600/1600\u001b[0m \u001b[32m━━━━━━━━━━━━━━━━━━━━\u001b[0m\u001b[37m\u001b[0m \u001b[1m2s\u001b[0m 1ms/step - accuracy: 0.8523 - loss: 0.5344 - val_accuracy: 0.8605 - val_loss: 0.4861\n",
      "Epoch 5/50\n",
      "\u001b[1m1600/1600\u001b[0m \u001b[32m━━━━━━━━━━━━━━━━━━━━\u001b[0m\u001b[37m\u001b[0m \u001b[1m2s\u001b[0m 1ms/step - accuracy: 0.8703 - loss: 0.4531 - val_accuracy: 0.8765 - val_loss: 0.4287\n",
      "Epoch 6/50\n",
      "\u001b[1m1600/1600\u001b[0m \u001b[32m━━━━━━━━━━━━━━━━━━━━\u001b[0m\u001b[37m\u001b[0m \u001b[1m2s\u001b[0m 1ms/step - accuracy: 0.8860 - loss: 0.3979 - val_accuracy: 0.8845 - val_loss: 0.3945\n",
      "Epoch 7/50\n",
      "\u001b[1m1600/1600\u001b[0m \u001b[32m━━━━━━━━━━━━━━━━━━━━\u001b[0m\u001b[37m\u001b[0m \u001b[1m2s\u001b[0m 1ms/step - accuracy: 0.8935 - loss: 0.3734 - val_accuracy: 0.8955 - val_loss: 0.3627\n",
      "Epoch 8/50\n",
      "\u001b[1m1600/1600\u001b[0m \u001b[32m━━━━━━━━━━━━━━━━━━━━\u001b[0m\u001b[37m\u001b[0m \u001b[1m2s\u001b[0m 1ms/step - accuracy: 0.9080 - loss: 0.3291 - val_accuracy: 0.8997 - val_loss: 0.3375\n",
      "Epoch 9/50\n",
      "\u001b[1m1600/1600\u001b[0m \u001b[32m━━━━━━━━━━━━━━━━━━━━\u001b[0m\u001b[37m\u001b[0m \u001b[1m2s\u001b[0m 1ms/step - accuracy: 0.9089 - loss: 0.3112 - val_accuracy: 0.8982 - val_loss: 0.3222\n",
      "Epoch 10/50\n",
      "\u001b[1m1600/1600\u001b[0m \u001b[32m━━━━━━━━━━━━━━━━━━━━\u001b[0m\u001b[37m\u001b[0m \u001b[1m2s\u001b[0m 1ms/step - accuracy: 0.9162 - loss: 0.2946 - val_accuracy: 0.9118 - val_loss: 0.2973\n",
      "Epoch 11/50\n",
      "\u001b[1m1600/1600\u001b[0m \u001b[32m━━━━━━━━━━━━━━━━━━━━\u001b[0m\u001b[37m\u001b[0m \u001b[1m2s\u001b[0m 1ms/step - accuracy: 0.9228 - loss: 0.2715 - val_accuracy: 0.9103 - val_loss: 0.2872\n",
      "Epoch 12/50\n",
      "\u001b[1m1600/1600\u001b[0m \u001b[32m━━━━━━━━━━━━━━━━━━━━\u001b[0m\u001b[37m\u001b[0m \u001b[1m2s\u001b[0m 1ms/step - accuracy: 0.9226 - loss: 0.2598 - val_accuracy: 0.9183 - val_loss: 0.2770\n",
      "Epoch 13/50\n",
      "\u001b[1m1600/1600\u001b[0m \u001b[32m━━━━━━━━━━━━━━━━━━━━\u001b[0m\u001b[37m\u001b[0m \u001b[1m2s\u001b[0m 1ms/step - accuracy: 0.9268 - loss: 0.2472 - val_accuracy: 0.9175 - val_loss: 0.2568\n",
      "Epoch 14/50\n",
      "\u001b[1m1600/1600\u001b[0m \u001b[32m━━━━━━━━━━━━━━━━━━━━\u001b[0m\u001b[37m\u001b[0m \u001b[1m2s\u001b[0m 1ms/step - accuracy: 0.9325 - loss: 0.2299 - val_accuracy: 0.9227 - val_loss: 0.2486\n",
      "Epoch 15/50\n",
      "\u001b[1m1600/1600\u001b[0m \u001b[32m━━━━━━━━━━━━━━━━━━━━\u001b[0m\u001b[37m\u001b[0m \u001b[1m2s\u001b[0m 1ms/step - accuracy: 0.9340 - loss: 0.2231 - val_accuracy: 0.9195 - val_loss: 0.2508\n",
      "Epoch 16/50\n",
      "\u001b[1m1600/1600\u001b[0m \u001b[32m━━━━━━━━━━━━━━━━━━━━\u001b[0m\u001b[37m\u001b[0m \u001b[1m2s\u001b[0m 1ms/step - accuracy: 0.9379 - loss: 0.2084 - val_accuracy: 0.9210 - val_loss: 0.2448\n",
      "Epoch 17/50\n",
      "\u001b[1m1600/1600\u001b[0m \u001b[32m━━━━━━━━━━━━━━━━━━━━\u001b[0m\u001b[37m\u001b[0m \u001b[1m2s\u001b[0m 1ms/step - accuracy: 0.9424 - loss: 0.1942 - val_accuracy: 0.9262 - val_loss: 0.2378\n",
      "Epoch 18/50\n",
      "\u001b[1m1600/1600\u001b[0m \u001b[32m━━━━━━━━━━━━━━━━━━━━\u001b[0m\u001b[37m\u001b[0m \u001b[1m2s\u001b[0m 1ms/step - accuracy: 0.9399 - loss: 0.1994 - val_accuracy: 0.9280 - val_loss: 0.2289\n",
      "Epoch 19/50\n",
      "\u001b[1m1600/1600\u001b[0m \u001b[32m━━━━━━━━━━━━━━━━━━━━\u001b[0m\u001b[37m\u001b[0m \u001b[1m2s\u001b[0m 1ms/step - accuracy: 0.9436 - loss: 0.1913 - val_accuracy: 0.9312 - val_loss: 0.2286\n",
      "Epoch 20/50\n",
      "\u001b[1m1600/1600\u001b[0m \u001b[32m━━━━━━━━━━━━━━━━━━━━\u001b[0m\u001b[37m\u001b[0m \u001b[1m2s\u001b[0m 1ms/step - accuracy: 0.9440 - loss: 0.1849 - val_accuracy: 0.9327 - val_loss: 0.2197\n",
      "Epoch 21/50\n",
      "\u001b[1m1600/1600\u001b[0m \u001b[32m━━━━━━━━━━━━━━━━━━━━\u001b[0m\u001b[37m\u001b[0m \u001b[1m2s\u001b[0m 1ms/step - accuracy: 0.9447 - loss: 0.1776 - val_accuracy: 0.9315 - val_loss: 0.2213\n",
      "Epoch 22/50\n",
      "\u001b[1m1600/1600\u001b[0m \u001b[32m━━━━━━━━━━━━━━━━━━━━\u001b[0m\u001b[37m\u001b[0m \u001b[1m2s\u001b[0m 1ms/step - accuracy: 0.9492 - loss: 0.1711 - val_accuracy: 0.9333 - val_loss: 0.2176\n",
      "Epoch 23/50\n",
      "\u001b[1m1600/1600\u001b[0m \u001b[32m━━━━━━━━━━━━━━━━━━━━\u001b[0m\u001b[37m\u001b[0m \u001b[1m2s\u001b[0m 1ms/step - accuracy: 0.9507 - loss: 0.1587 - val_accuracy: 0.9300 - val_loss: 0.2194\n",
      "Epoch 24/50\n",
      "\u001b[1m1600/1600\u001b[0m \u001b[32m━━━━━━━━━━━━━━━━━━━━\u001b[0m\u001b[37m\u001b[0m \u001b[1m2s\u001b[0m 1ms/step - accuracy: 0.9523 - loss: 0.1622 - val_accuracy: 0.9345 - val_loss: 0.2079\n",
      "Epoch 25/50\n",
      "\u001b[1m1600/1600\u001b[0m \u001b[32m━━━━━━━━━━━━━━━━━━━━\u001b[0m\u001b[37m\u001b[0m \u001b[1m2s\u001b[0m 1ms/step - accuracy: 0.9528 - loss: 0.1555 - val_accuracy: 0.9342 - val_loss: 0.2026\n",
      "Epoch 26/50\n",
      "\u001b[1m1600/1600\u001b[0m \u001b[32m━━━━━━━━━━━━━━━━━━━━\u001b[0m\u001b[37m\u001b[0m \u001b[1m2s\u001b[0m 1ms/step - accuracy: 0.9556 - loss: 0.1522 - val_accuracy: 0.9355 - val_loss: 0.2038\n",
      "Epoch 27/50\n",
      "\u001b[1m1600/1600\u001b[0m \u001b[32m━━━━━━━━━━━━━━━━━━━━\u001b[0m\u001b[37m\u001b[0m \u001b[1m2s\u001b[0m 1ms/step - accuracy: 0.9568 - loss: 0.1441 - val_accuracy: 0.9358 - val_loss: 0.2012\n",
      "Epoch 28/50\n",
      "\u001b[1m1600/1600\u001b[0m \u001b[32m━━━━━━━━━━━━━━━━━━━━\u001b[0m\u001b[37m\u001b[0m \u001b[1m2s\u001b[0m 1ms/step - accuracy: 0.9563 - loss: 0.1446 - val_accuracy: 0.9358 - val_loss: 0.1974\n",
      "Epoch 29/50\n",
      "\u001b[1m1600/1600\u001b[0m \u001b[32m━━━━━━━━━━━━━━━━━━━━\u001b[0m\u001b[37m\u001b[0m \u001b[1m2s\u001b[0m 1ms/step - accuracy: 0.9552 - loss: 0.1444 - val_accuracy: 0.9362 - val_loss: 0.1977\n",
      "Epoch 30/50\n",
      "\u001b[1m1600/1600\u001b[0m \u001b[32m━━━━━━━━━━━━━━━━━━━━\u001b[0m\u001b[37m\u001b[0m \u001b[1m2s\u001b[0m 1ms/step - accuracy: 0.9590 - loss: 0.1386 - val_accuracy: 0.9365 - val_loss: 0.1913\n",
      "Epoch 31/50\n",
      "\u001b[1m1600/1600\u001b[0m \u001b[32m━━━━━━━━━━━━━━━━━━━━\u001b[0m\u001b[37m\u001b[0m \u001b[1m2s\u001b[0m 2ms/step - accuracy: 0.9583 - loss: 0.1375 - val_accuracy: 0.9408 - val_loss: 0.1842\n",
      "Epoch 32/50\n",
      "\u001b[1m1600/1600\u001b[0m \u001b[32m━━━━━━━━━━━━━━━━━━━━\u001b[0m\u001b[37m\u001b[0m \u001b[1m2s\u001b[0m 1ms/step - accuracy: 0.9594 - loss: 0.1313 - val_accuracy: 0.9395 - val_loss: 0.1888\n",
      "Epoch 33/50\n",
      "\u001b[1m1600/1600\u001b[0m \u001b[32m━━━━━━━━━━━━━━━━━━━━\u001b[0m\u001b[37m\u001b[0m \u001b[1m2s\u001b[0m 1ms/step - accuracy: 0.9598 - loss: 0.1296 - val_accuracy: 0.9395 - val_loss: 0.1867\n",
      "Epoch 34/50\n",
      "\u001b[1m1600/1600\u001b[0m \u001b[32m━━━━━━━━━━━━━━━━━━━━\u001b[0m\u001b[37m\u001b[0m \u001b[1m2s\u001b[0m 1ms/step - accuracy: 0.9644 - loss: 0.1217 - val_accuracy: 0.9398 - val_loss: 0.1844\n",
      "Epoch 35/50\n",
      "\u001b[1m1600/1600\u001b[0m \u001b[32m━━━━━━━━━━━━━━━━━━━━\u001b[0m\u001b[37m\u001b[0m \u001b[1m2s\u001b[0m 1ms/step - accuracy: 0.9648 - loss: 0.1216 - val_accuracy: 0.9410 - val_loss: 0.1876\n",
      "Epoch 36/50\n",
      "\u001b[1m1600/1600\u001b[0m \u001b[32m━━━━━━━━━━━━━━━━━━━━\u001b[0m\u001b[37m\u001b[0m \u001b[1m2s\u001b[0m 1ms/step - accuracy: 0.9645 - loss: 0.1171 - val_accuracy: 0.9373 - val_loss: 0.1878\n",
      "Epoch 37/50\n",
      "\u001b[1m1600/1600\u001b[0m \u001b[32m━━━━━━━━━━━━━━━━━━━━\u001b[0m\u001b[37m\u001b[0m \u001b[1m2s\u001b[0m 1ms/step - accuracy: 0.9641 - loss: 0.1250 - val_accuracy: 0.9388 - val_loss: 0.1919\n",
      "Epoch 38/50\n",
      "\u001b[1m1600/1600\u001b[0m \u001b[32m━━━━━━━━━━━━━━━━━━━━\u001b[0m\u001b[37m\u001b[0m \u001b[1m2s\u001b[0m 1ms/step - accuracy: 0.9649 - loss: 0.1167 - val_accuracy: 0.9388 - val_loss: 0.1875\n",
      "Epoch 39/50\n",
      "\u001b[1m1600/1600\u001b[0m \u001b[32m━━━━━━━━━━━━━━━━━━━━\u001b[0m\u001b[37m\u001b[0m \u001b[1m2s\u001b[0m 1ms/step - accuracy: 0.9651 - loss: 0.1129 - val_accuracy: 0.9395 - val_loss: 0.1875\n",
      "Epoch 40/50\n",
      "\u001b[1m1600/1600\u001b[0m \u001b[32m━━━━━━━━━━━━━━━━━━━━\u001b[0m\u001b[37m\u001b[0m \u001b[1m2s\u001b[0m 1ms/step - accuracy: 0.9645 - loss: 0.1133 - val_accuracy: 0.9400 - val_loss: 0.1811\n",
      "Epoch 41/50\n",
      "\u001b[1m1600/1600\u001b[0m \u001b[32m━━━━━━━━━━━━━━━━━━━━\u001b[0m\u001b[37m\u001b[0m \u001b[1m2s\u001b[0m 1ms/step - accuracy: 0.9661 - loss: 0.1153 - val_accuracy: 0.9392 - val_loss: 0.1824\n",
      "Epoch 42/50\n",
      "\u001b[1m1600/1600\u001b[0m \u001b[32m━━━━━━━━━━━━━━━━━━━━\u001b[0m\u001b[37m\u001b[0m \u001b[1m2s\u001b[0m 1ms/step - accuracy: 0.9684 - loss: 0.1052 - val_accuracy: 0.9413 - val_loss: 0.1815\n",
      "Epoch 43/50\n",
      "\u001b[1m1600/1600\u001b[0m \u001b[32m━━━━━━━━━━━━━━━━━━━━\u001b[0m\u001b[37m\u001b[0m \u001b[1m2s\u001b[0m 1ms/step - accuracy: 0.9666 - loss: 0.1113 - val_accuracy: 0.9408 - val_loss: 0.1775\n",
      "Epoch 44/50\n",
      "\u001b[1m1600/1600\u001b[0m \u001b[32m━━━━━━━━━━━━━━━━━━━━\u001b[0m\u001b[37m\u001b[0m \u001b[1m2s\u001b[0m 1ms/step - accuracy: 0.9670 - loss: 0.1043 - val_accuracy: 0.9423 - val_loss: 0.1779\n",
      "Epoch 45/50\n",
      "\u001b[1m1600/1600\u001b[0m \u001b[32m━━━━━━━━━━━━━━━━━━━━\u001b[0m\u001b[37m\u001b[0m \u001b[1m2s\u001b[0m 1ms/step - accuracy: 0.9703 - loss: 0.1034 - val_accuracy: 0.9402 - val_loss: 0.1761\n",
      "Epoch 46/50\n",
      "\u001b[1m1600/1600\u001b[0m \u001b[32m━━━━━━━━━━━━━━━━━━━━\u001b[0m\u001b[37m\u001b[0m \u001b[1m2s\u001b[0m 1ms/step - accuracy: 0.9679 - loss: 0.1036 - val_accuracy: 0.9398 - val_loss: 0.1784\n",
      "Epoch 47/50\n",
      "\u001b[1m1600/1600\u001b[0m \u001b[32m━━━━━━━━━━━━━━━━━━━━\u001b[0m\u001b[37m\u001b[0m \u001b[1m2s\u001b[0m 1ms/step - accuracy: 0.9710 - loss: 0.0965 - val_accuracy: 0.9398 - val_loss: 0.1813\n",
      "Epoch 48/50\n",
      "\u001b[1m1600/1600\u001b[0m \u001b[32m━━━━━━━━━━━━━━━━━━━━\u001b[0m\u001b[37m\u001b[0m \u001b[1m2s\u001b[0m 1ms/step - accuracy: 0.9688 - loss: 0.0970 - val_accuracy: 0.9420 - val_loss: 0.1814\n",
      "Epoch 49/50\n",
      "\u001b[1m1600/1600\u001b[0m \u001b[32m━━━━━━━━━━━━━━━━━━━━\u001b[0m\u001b[37m\u001b[0m \u001b[1m2s\u001b[0m 1ms/step - accuracy: 0.9675 - loss: 0.1044 - val_accuracy: 0.9427 - val_loss: 0.1790\n",
      "Epoch 50/50\n",
      "\u001b[1m1600/1600\u001b[0m \u001b[32m━━━━━━━━━━━━━━━━━━━━\u001b[0m\u001b[37m\u001b[0m \u001b[1m2s\u001b[0m 1ms/step - accuracy: 0.9715 - loss: 0.0901 - val_accuracy: 0.9408 - val_loss: 0.1781\n"
     ]
    },
    {
     "name": "stdout",
     "output_type": "stream",
     "text": [
      "\u001b[1m125/125\u001b[0m \u001b[32m━━━━━━━━━━━━━━━━━━━━\u001b[0m\u001b[37m\u001b[0m \u001b[1m0s\u001b[0m 1ms/step - accuracy: 0.9398 - loss: 0.1863\n",
      "Test Loss: 0.17813731729984283, Test Accuracy: 0.940750002861023\n"
     ]
    }
   ],
   "source": [
    "import tensorflow as tf\n",
    "from tensorflow.keras.models import Sequential\n",
    "from tensorflow.keras.layers import Dense\n",
    "\n",
    "# Construct the ANN model\n",
    "model = Sequential()\n",
    "model.add(Dense(64, input_dim=X_train.shape[1], activation='relu'))  # Hidden layer\n",
    "model.add(Dense(26, activation='softmax'))  # Output layer, assuming 26 classes for 26 alphabets\n",
    "\n",
    "# Compile the model\n",
    "model.compile(optimizer='adam', loss='sparse_categorical_crossentropy', metrics=['accuracy'])\n",
    "\n",
    "# Train the model\n",
    "history = model.fit(X_train, y_train, epochs=50, batch_size=10, validation_data=(X_test, y_test))\n",
    "\n",
    "# Evaluate the model on the test set\n",
    "test_loss, test_accuracy = model.evaluate(X_test, y_test)\n",
    "print(f'Test Loss: {test_loss}, Test Accuracy: {test_accuracy}')\n"
   ]
  },
  {
   "cell_type": "code",
   "execution_count": 66,
   "id": "759c2d3f",
   "metadata": {},
   "outputs": [
    {
     "name": "stdout",
     "output_type": "stream",
     "text": [
      "2.17.0\n"
     ]
    }
   ],
   "source": [
    "import tensorflow as tf\n",
    "print(tf.__version__)\n"
   ]
  },
  {
   "cell_type": "code",
   "execution_count": null,
   "id": "aa0f7310",
   "metadata": {},
   "outputs": [],
   "source": [
    "pip uninstall tensorflow\n"
   ]
  },
  {
   "cell_type": "code",
   "execution_count": null,
   "id": "1ea56fb2",
   "metadata": {},
   "outputs": [],
   "source": [
    "pip install tensorflow"
   ]
  },
  {
   "cell_type": "code",
   "execution_count": null,
   "id": "4d195ef3",
   "metadata": {},
   "outputs": [],
   "source": [
    "from sklearn.model_selection import GridSearchCV\n",
    "from tensorflow.keras.wrappers.scikit_learn import KerasClassifier, KerasRegressor\n",
    "\n",
    "\n",
    "\n",
    "# Define a function to create the model\n",
    "def create_model(optimizer='adam', activation='relu'):\n",
    "    model = Sequential()\n",
    "    model.add(Dense(64, input_dim=X_train.shape[1], activation=activation))\n",
    "    model.add(Dense(26, activation='softmax'))\n",
    "    model.compile(optimizer=optimizer, loss='sparse_categorical_crossentropy', metrics=['accuracy'])\n",
    "    return model\n",
    "\n",
    "# Create the KerasClassifier\n",
    "model = KerasClassifier(build_fn=create_model, verbose=0)\n",
    "\n",
    "# Define the grid search parameters\n",
    "param_grid = {\n",
    "    'optimizer': ['adam', 'rmsprop'],\n",
    "    'activation': ['relu', 'tanh'],\n",
    "    'batch_size': [10, 20],\n",
    "    'epochs': [50, 100]\n",
    "}\n",
    "\n",
    "# Create GridSearchCV and fit it to the data\n",
    "grid = GridSearchCV(estimator=model, param_grid=param_grid, n_jobs=-1, cv=3)\n",
    "grid_result = grid.fit(X_train, y_train)\n",
    "\n",
    "# Summarize the results\n",
    "best_params = grid_result.best_params_\n",
    "best_score = grid_result.best_score_\n",
    "print(f'Best Parameters: {best_params}, Best Score: {best_score}')\n",
    "\n",
    "# Build the best model\n",
    "best_model = create_model(optimizer=best_params['optimizer'], activation=best_params['activation'])\n",
    "best_model.fit(X_train, y_train, epochs=best_params['epochs'], batch_size=best_params['batch_size'], verbose=0)\n",
    "\n",
    "# Evaluate the best model on the test set\n",
    "best_test_loss, best_test_accuracy = best_model.evaluate(X_test, y_test)\n",
    "print(f'Best Test Loss: {best_test_loss}, Best Test Accuracy: {best_test_accuracy}')\n"
   ]
  },
  {
   "cell_type": "code",
   "execution_count": null,
   "id": "cb4b1a62",
   "metadata": {},
   "outputs": [],
   "source": [
    "print({\n",
    "    \"Default Model Accuracy\": test_accuracy,\n",
    "    \"Tuned Model Accuracy\": best_test_accuracy,\n",
    "    \"Best Hyperparameters\": best_params\n",
    "})\n"
   ]
  },
  {
   "cell_type": "code",
   "execution_count": null,
   "id": "ef675e23",
   "metadata": {},
   "outputs": [],
   "source": [
    "# Evaluate the best model on the test set\n",
    "best_test_loss, best_test_accuracy = best_model.evaluate(X_test, y_test)\n",
    "print(f'Best Test Loss: {best_test_loss}, Best Test Accuracy: {best_test_accuracy}')\n",
    "\n",
    "# Summarize the performance comparison\n",
    "performance_summary = {\n",
    "    \"Default Model Accuracy\": test_accuracy,\n",
    "    \"Tuned Model Accuracy\": best_test_accuracy,\n",
    "    \"Best Hyperparameters\": best_params\n",
    "}\n",
    "\n",
    "print(performance_summary)\n"
   ]
  },
  {
   "cell_type": "code",
   "execution_count": null,
   "id": "99b83391",
   "metadata": {},
   "outputs": [],
   "source": [
    "import matplotlib.pyplot as plt\n",
    "\n",
    "# Plot training & validation accuracy values\n",
    "plt.figure(figsize=(12, 4))\n",
    "\n",
    "plt.subplot(1, 2, 1)\n",
    "plt.plot(history.history['accuracy'])\n",
    "plt.plot(history.history['val_accuracy'])\n",
    "plt.title('Model accuracy')\n",
    "plt.ylabel('Accuracy')\n",
    "plt.xlabel('Epoch')\n",
    "plt.legend(['Train', 'Test'], loc='upper left')\n",
    "\n",
    "# Plot training & validation loss values\n",
    "plt.subplot(1, 2, 2)\n",
    "plt.plot(history.history['loss'])\n",
    "plt.plot(history.history['val_loss'])\n",
    "plt.title('Model loss')\n",
    "plt.ylabel('Loss')\n",
    "plt.xlabel('Epoch')\n",
    "plt.legend(['Train', 'Test'], loc='upper left')\n",
    "\n",
    "plt.show()\n"
   ]
  },
  {
   "cell_type": "code",
   "execution_count": null,
   "id": "b6c685ec",
   "metadata": {},
   "outputs": [],
   "source": [
    "from sklearn.metrics import classification_report, accuracy_score\n",
    "\n",
    "# Predict the labels for the test set\n",
    "y_pred = model.predict(X_test)\n",
    "y_pred_classes = y_pred.argmax(axis=-1)\n",
    "\n",
    "# Decode the predicted labels back to the original string format\n",
    "y_pred_labels = label_encoder.inverse_transform(y_pred_classes)\n",
    "y_test_labels = label_encoder.inverse_transform(y_test)\n",
    "\n",
    "# Evaluate the model\n",
    "accuracy = accuracy_score(y_test_labels, y_pred_labels)\n",
    "report = classification_report(y_test_labels, y_pred_labels)\n",
    "\n",
    "print(f'Accuracy: {accuracy}')\n",
    "print(f'Classification Report:\\n{report}')\n"
   ]
  },
  {
   "cell_type": "code",
   "execution_count": null,
   "id": "509444bd",
   "metadata": {},
   "outputs": [],
   "source": [
    "##Conclusion:\n",
    "#Hyperparameter tuning significantly enhanced the model's performance, demonstrating its importance in developing robust neural network models. The systematic approach and thorough evaluation provided valuable insights into the impact of different hyperparameters on model accuracy and generalization."
   ]
  },
  {
   "cell_type": "code",
   "execution_count": null,
   "id": "df217425",
   "metadata": {},
   "outputs": [],
   "source": []
  }
 ],
 "metadata": {
  "kernelspec": {
   "display_name": "Python 3 (ipykernel)",
   "language": "python",
   "name": "python3"
  },
  "language_info": {
   "codemirror_mode": {
    "name": "ipython",
    "version": 3
   },
   "file_extension": ".py",
   "mimetype": "text/x-python",
   "name": "python",
   "nbconvert_exporter": "python",
   "pygments_lexer": "ipython3",
   "version": "3.9.13"
  }
 },
 "nbformat": 4,
 "nbformat_minor": 5
}
