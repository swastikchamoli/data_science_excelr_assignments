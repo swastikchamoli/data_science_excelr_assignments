{
 "cells": [
  {
   "cell_type": "code",
   "execution_count": 2,
   "id": "be39d157",
   "metadata": {},
   "outputs": [],
   "source": [
    "#Exercise1"
   ]
  },
  {
   "cell_type": "code",
   "execution_count": 3,
   "id": "bf9ebfc8",
   "metadata": {},
   "outputs": [
    {
     "name": "stdout",
     "output_type": "stream",
     "text": [
      "True\n",
      "False\n"
     ]
    }
   ],
   "source": [
    "def is_prime(n):\n",
    "    \"\"\"Check if a number is prime.\"\"\"\n",
    "    if n <= 1:\n",
    "        return False\n",
    "    for i in range(2, int(n**0.5) + 1):\n",
    "        if n % i == 0:\n",
    "            return False\n",
    "    return True\n",
    "\n",
    "# Test the function\n",
    "print(is_prime(29))  # True\n",
    "print(is_prime(10))  # False\n"
   ]
  },
  {
   "cell_type": "code",
   "execution_count": 4,
   "id": "802751fd",
   "metadata": {},
   "outputs": [],
   "source": [
    "#Exercise2"
   ]
  },
  {
   "cell_type": "code",
   "execution_count": 5,
   "id": "17cfa330",
   "metadata": {},
   "outputs": [
    {
     "name": "stdout",
     "output_type": "stream",
     "text": [
      "What is the product of 4 and 2? 8\n",
      "Correct!\n"
     ]
    }
   ],
   "source": [
    "import random\n",
    "\n",
    "def product_of_random_numbers():\n",
    "    \"\"\"Generate two random numbers and ask the user to find their product.\"\"\"\n",
    "    num1 = random.randint(1, 10)\n",
    "    num2 = random.randint(1, 10)\n",
    "    product = num1 * num2\n",
    "    user_answer = int(input(f\"What is the product of {num1} and {num2}? \"))\n",
    "    if user_answer == product:\n",
    "        print(\"Correct!\")\n",
    "    else:\n",
    "        print(f\"Incorrect. The correct answer is {product}.\")\n",
    "\n",
    "# Run the function\n",
    "product_of_random_numbers()\n"
   ]
  },
  {
   "cell_type": "code",
   "execution_count": 7,
   "id": "3bd2da41",
   "metadata": {},
   "outputs": [],
   "source": [
    "#Exercise3"
   ]
  },
  {
   "cell_type": "code",
   "execution_count": 8,
   "id": "ff6cb0c0",
   "metadata": {},
   "outputs": [
    {
     "name": "stdout",
     "output_type": "stream",
     "text": [
      "The square of 100 is 10000\n",
      "The square of 102 is 10404\n",
      "The square of 104 is 10816\n",
      "The square of 106 is 11236\n",
      "The square of 108 is 11664\n",
      "The square of 110 is 12100\n",
      "The square of 112 is 12544\n",
      "The square of 114 is 12996\n",
      "The square of 116 is 13456\n",
      "The square of 118 is 13924\n",
      "The square of 120 is 14400\n",
      "The square of 122 is 14884\n",
      "The square of 124 is 15376\n",
      "The square of 126 is 15876\n",
      "The square of 128 is 16384\n",
      "The square of 130 is 16900\n",
      "The square of 132 is 17424\n",
      "The square of 134 is 17956\n",
      "The square of 136 is 18496\n",
      "The square of 138 is 19044\n",
      "The square of 140 is 19600\n",
      "The square of 142 is 20164\n",
      "The square of 144 is 20736\n",
      "The square of 146 is 21316\n",
      "The square of 148 is 21904\n",
      "The square of 150 is 22500\n",
      "The square of 152 is 23104\n",
      "The square of 154 is 23716\n",
      "The square of 156 is 24336\n",
      "The square of 158 is 24964\n",
      "The square of 160 is 25600\n",
      "The square of 162 is 26244\n",
      "The square of 164 is 26896\n",
      "The square of 166 is 27556\n",
      "The square of 168 is 28224\n",
      "The square of 170 is 28900\n",
      "The square of 172 is 29584\n",
      "The square of 174 is 30276\n",
      "The square of 176 is 30976\n",
      "The square of 178 is 31684\n",
      "The square of 180 is 32400\n",
      "The square of 182 is 33124\n",
      "The square of 184 is 33856\n",
      "The square of 186 is 34596\n",
      "The square of 188 is 35344\n",
      "The square of 190 is 36100\n",
      "The square of 192 is 36864\n",
      "The square of 194 is 37636\n",
      "The square of 196 is 38416\n",
      "The square of 198 is 39204\n",
      "The square of 200 is 40000\n"
     ]
    }
   ],
   "source": [
    "def squares_of_even_numbers():\n",
    "    \"\"\"Print the squares of all even numbers within the range of 100 to 200.\"\"\"\n",
    "    for number in range(100, 201):\n",
    "        if number % 2 == 0:\n",
    "            print(f\"The square of {number} is {number**2}\")\n",
    "\n",
    "# Run the function\n",
    "squares_of_even_numbers()\n"
   ]
  },
  {
   "cell_type": "code",
   "execution_count": 9,
   "id": "509d29b6",
   "metadata": {},
   "outputs": [],
   "source": [
    "#Exercise4"
   ]
  },
  {
   "cell_type": "code",
   "execution_count": 10,
   "id": "b7428bec",
   "metadata": {},
   "outputs": [
    {
     "name": "stdout",
     "output_type": "stream",
     "text": [
      "{'This': 2, 'is': 1, 'a': 1, 'sample': 1, 'text.': 1, 'text': 1, 'will': 1, 'be': 1, 'used': 1, 'to': 1, 'demonstrate': 1, 'the': 1, 'word': 1, 'counter.': 1}\n"
     ]
    }
   ],
   "source": [
    "def word_counter(text):\n",
    "    \"\"\"Count the number of occurrences of each word in a given text.\"\"\"\n",
    "    words = text.split()\n",
    "    word_count = {}\n",
    "    for word in words:\n",
    "        word_count[word] = word_count.get(word, 0) + 1\n",
    "    return word_count\n",
    "\n",
    "# Test the function\n",
    "input_text = \"This is a sample text. This text will be used to demonstrate the word counter.\"\n",
    "print(word_counter(input_text))\n"
   ]
  },
  {
   "cell_type": "code",
   "execution_count": 11,
   "id": "b43ffb58",
   "metadata": {},
   "outputs": [],
   "source": [
    "#Exercise5"
   ]
  },
  {
   "cell_type": "code",
   "execution_count": 12,
   "id": "804cbe6a",
   "metadata": {},
   "outputs": [
    {
     "name": "stdout",
     "output_type": "stream",
     "text": [
      "True\n",
      "False\n"
     ]
    }
   ],
   "source": [
    "def is_palindrome(s):\n",
    "    \"\"\"Check if a given string is a palindrome.\"\"\"\n",
    "    s = ''.join(char.lower() for char in s if char.isalnum())  # Remove non-alphanumeric characters and convert to lowercase\n",
    "    return s == s[::-1]\n",
    "\n",
    "# Test the function\n",
    "print(is_palindrome(\"racecar\"))  # True\n",
    "print(is_palindrome(\"hello\"))    # False\n"
   ]
  },
  {
   "cell_type": "code",
   "execution_count": null,
   "id": "f4be02a3",
   "metadata": {},
   "outputs": [],
   "source": []
  }
 ],
 "metadata": {
  "kernelspec": {
   "display_name": "Python 3 (ipykernel)",
   "language": "python",
   "name": "python3"
  },
  "language_info": {
   "codemirror_mode": {
    "name": "ipython",
    "version": 3
   },
   "file_extension": ".py",
   "mimetype": "text/x-python",
   "name": "python",
   "nbconvert_exporter": "python",
   "pygments_lexer": "ipython3",
   "version": "3.9.13"
  }
 },
 "nbformat": 4,
 "nbformat_minor": 5
}
