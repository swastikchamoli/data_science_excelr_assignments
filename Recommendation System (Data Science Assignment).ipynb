{
 "cells": [
  {
   "cell_type": "code",
   "execution_count": 17,
   "id": "7af9d697",
   "metadata": {},
   "outputs": [
    {
     "name": "stdout",
     "output_type": "stream",
     "text": [
      "   anime_id                              name  \\\n",
      "0     32281                    Kimi no Na wa.   \n",
      "1      5114  Fullmetal Alchemist: Brotherhood   \n",
      "2     28977                          Gintama°   \n",
      "3      9253                       Steins;Gate   \n",
      "4      9969                     Gintama&#039;   \n",
      "\n",
      "                                               genre   type episodes  rating  \\\n",
      "0               Drama, Romance, School, Supernatural  Movie        1    9.37   \n",
      "1  Action, Adventure, Drama, Fantasy, Magic, Mili...     TV       64    9.26   \n",
      "2  Action, Comedy, Historical, Parody, Samurai, S...     TV       51    9.25   \n",
      "3                                   Sci-Fi, Thriller     TV       24    9.17   \n",
      "4  Action, Comedy, Historical, Parody, Samurai, S...     TV       51    9.16   \n",
      "\n",
      "   members  \n",
      "0   200630  \n",
      "1   793665  \n",
      "2   114262  \n",
      "3   673572  \n",
      "4   151266  \n",
      "<class 'pandas.core.frame.DataFrame'>\n",
      "RangeIndex: 12294 entries, 0 to 12293\n",
      "Data columns (total 7 columns):\n",
      " #   Column    Non-Null Count  Dtype  \n",
      "---  ------    --------------  -----  \n",
      " 0   anime_id  12294 non-null  int64  \n",
      " 1   name      12294 non-null  object \n",
      " 2   genre     12294 non-null  object \n",
      " 3   type      12269 non-null  object \n",
      " 4   episodes  12294 non-null  object \n",
      " 5   rating    12294 non-null  float64\n",
      " 6   members   12294 non-null  int64  \n",
      "dtypes: float64(1), int64(2), object(4)\n",
      "memory usage: 672.5+ KB\n",
      "None\n"
     ]
    }
   ],
   "source": [
    "from sklearn.metrics.pairwise import cosine_similarity\n",
    "from sklearn.model_selection import train_test_split\n",
    "from sklearn.preprocessing import OneHotEncoder, MinMaxScaler\n",
    "from sklearn.metrics import precision_score, recall_score, f1_score\n",
    "import pandas as pd\n",
    "\n",
    "# Load the dataset\n",
    "data = df\n",
    "df = pd.read_csv(r\"C:\\Users\\Acer\\Desktop\\Data Sci Assignments\\Recommendation System\\anime.csv\")\n",
    "\n",
    "# Handle missing values\n",
    "df.fillna({'genre': 'Unknown', 'rating': 0, 'members': 0}, inplace=True)\n",
    "\n",
    "# Explore the dataset\n",
    "print(df.head())\n",
    "print(df.info())\n"
   ]
  },
  {
   "cell_type": "code",
   "execution_count": 24,
   "id": "af0e73c2",
   "metadata": {},
   "outputs": [],
   "source": [
    "# Feature Extraction\n",
    "# Convert categorical features into numerical representations\n",
    "ohe = OneHotEncoder()\n",
    "genre_encoded = ohe.fit_transform(df[['genre']]).toarray()"
   ]
  },
  {
   "cell_type": "code",
   "execution_count": 25,
   "id": "f0e57948",
   "metadata": {},
   "outputs": [],
   "source": [
    "# Normalize numerical features\n",
    "scaler = MinMaxScaler()\n",
    "df['rating'] = scaler.fit_transform(df[['rating']])\n",
    "df['members'] = scaler.fit_transform(df[['members']])"
   ]
  },
  {
   "cell_type": "code",
   "execution_count": 26,
   "id": "355fafa8",
   "metadata": {},
   "outputs": [],
   "source": [
    "# Combine all features into a single matrix\n",
    "features = pd.concat([pd.DataFrame(genre_encoded), df[['rating', 'members']]], axis=1)\n"
   ]
  },
  {
   "cell_type": "code",
   "execution_count": 37,
   "id": "697430ed",
   "metadata": {},
   "outputs": [],
   "source": [
    "# Recommendation System\n",
    "def recommend_anime(anime_name, df, features, top_n=10):\n",
    "    # Check if the anime name exists in the DataFrame\n",
    "    if anime_name not in df['name'].values:\n",
    "        print(f\"Anime name '{anime_name}' not found in the dataset.\")\n",
    "        return []\n",
    "    \n",
    "    # Find the index of the anime\n",
    "    idx = df[df['name'] == anime_name].index[0]\n",
    "    print(f\"Index of '{anime_name}': {idx}\")\n",
    "    \n",
    "    # Compute cosine similarity\n",
    "    cos_sim = cosine_similarity(features)\n",
    "    \n",
    "    # Get similarity scores for the target anime\n",
    "    sim_scores = list(enumerate(cos_sim[idx]))\n",
    "    \n",
    "    # Sort the anime based on similarity scores\n",
    "    sim_scores = sorted(sim_scores, key=lambda x: x[1], reverse=True)\n",
    "    \n",
    "    # Get the top N similar anime\n",
    "    sim_scores = sim_scores[1:top_n+1]\n",
    "    \n",
    "    # Get the indices of the similar anime\n",
    "    anime_indices = [i[0] for i in sim_scores]\n",
    "    \n",
    "    # Return the top N similar anime names\n",
    "    return df['name'].iloc[anime_indices].tolist()\n"
   ]
  },
  {
   "cell_type": "code",
   "execution_count": 38,
   "id": "70c7d366",
   "metadata": {
    "scrolled": true
   },
   "outputs": [
    {
     "name": "stdout",
     "output_type": "stream",
     "text": [
      "Index of 'Naruto': 841\n",
      "Recommended anime for 'Naruto': ['Naruto: Shippuuden', 'Naruto: Shippuuden Movie 4 - The Lost Tower', 'Naruto: Shippuuden Movie 3 - Hi no Ishi wo Tsugu Mono', 'Boruto: Naruto the Movie', 'Naruto Soyokazeden Movie: Naruto to Mashin to Mitsu no Onegai Dattebayo!!', 'Naruto x UT', 'Boruto: Naruto the Movie - Naruto ga Hokage ni Natta Hi', 'Naruto Shippuuden: Sunny Side Battle', 'Death Note', 'Shingeki no Kyojin']\n"
     ]
    }
   ],
   "source": [
    "# Example recommendation\n",
    "print(\"Recommended anime for 'Naruto':\", recommend_anime('Naruto', df, features))\n"
   ]
  },
  {
   "cell_type": "code",
   "execution_count": null,
   "id": "eb503ccf",
   "metadata": {},
   "outputs": [
    {
     "name": "stdout",
     "output_type": "stream",
     "text": [
      "Index of 'Suzy&#039;s Zoo: Daisuki! Witzy - Happy Birthday': 6329\n",
      "Index of 'Suzy&#039;s Zoo: Daisuki! Witzy - Happy Birthday': 6329\n",
      "Index of 'Tactics': 2167\n",
      "Index of 'Tactics': 2167\n",
      "Index of 'Kamen no Maid Guy': 2882\n",
      "Index of 'Kamen no Maid Guy': 2882\n",
      "Index of 'Take Your Way': 4700\n",
      "Index of 'Take Your Way': 4700\n",
      "Index of 'Rinkaku': 7258\n",
      "Index of 'Rinkaku': 7258\n",
      "Index of 'Suisei no Gargantia: Meguru Kouro, Haruka': 1730\n",
      "Index of 'Suisei no Gargantia: Meguru Kouro, Haruka': 1730\n",
      "Index of 'Digital Devil Story: Megami Tensei': 7443\n",
      "Index of 'Digital Devil Story: Megami Tensei': 7443\n",
      "Index of 'Chuunibyou demo Koi ga Shitai! Ren Lite': 2576\n",
      "Index of 'Chuunibyou demo Koi ga Shitai! Ren Lite': 2576\n",
      "Index of 'Kobo-chan': 9263\n",
      "Index of 'Kobo-chan': 9263\n",
      "Index of 'Sekaiichi Hatsukoi Movie: Yokozawa Takafumi no Baai': 311\n",
      "Index of 'Sekaiichi Hatsukoi Movie: Yokozawa Takafumi no Baai': 311\n",
      "Index of 'Mardock Scramble: The Second Combustion': 1570\n",
      "Index of 'Mardock Scramble: The Second Combustion': 1570\n",
      "Index of 'Yukiguni no Oujisama': 10842\n",
      "Index of 'Yukiguni no Oujisama': 10842\n",
      "Index of 'Mugen Senshi Valis': 7075\n",
      "Index of 'Mugen Senshi Valis': 7075\n",
      "Index of 'Cyborg 009: Call of Justice 1': 8411\n",
      "Index of 'Cyborg 009: Call of Justice 1': 8411\n",
      "Index of 'Demi-chan wa Kataritai': 10968\n",
      "Index of 'Demi-chan wa Kataritai': 10968\n",
      "Index of 'Ane Koi: Suki Kirai Daisuki.': 11247\n",
      "Index of 'Ane Koi: Suki Kirai Daisuki.': 11247\n",
      "Index of 'Chrome Shelled Regios': 1351\n",
      "Index of 'Chrome Shelled Regios': 1351\n",
      "Index of 'Mori no Tonto-tachi': 6176\n",
      "Index of 'Mori no Tonto-tachi': 6176\n",
      "Index of 'Tori no Uta': 5013\n",
      "Index of 'Tori no Uta': 5013\n",
      "Index of 'One Piece: Mezase! Kaizoku Yakyuu Ou': 2655\n",
      "Index of 'One Piece: Mezase! Kaizoku Yakyuu Ou': 2655\n"
     ]
    }
   ],
   "source": [
    "# Evaluation\n",
    "# Split the dataset into training and testing sets\n",
    "train, test = train_test_split(df, test_size=0.2, random_state=42)\n",
    "\n",
    "# Calculate precision, recall, and F1-score\n",
    "y_true = test['name']\n",
    "y_pred = [recommend_anime(name, df, features, top_n=1)[0] for name in test['name'] if recommend_anime(name, df, features, top_n=1)]\n",
    "\n",
    "precision = precision_score(y_true, y_pred, average='micro', zero_division=0)\n",
    "recall = recall_score(y_true, y_pred, average='micro', zero_division=0)\n",
    "f1 = f1_score(y_true, y_pred, average='micro', zero_division=0)\n",
    "\n",
    "print(f'Precision: {precision:.2f}')\n",
    "print(f'Recall: {recall:.2f}')\n",
    "print(f'F1-score: {f1:.2f}')"
   ]
  },
  {
   "cell_type": "code",
   "execution_count": null,
   "id": "d388eceb",
   "metadata": {},
   "outputs": [],
   "source": [
    "## 1. Difference between User-Based and Item-Based Collaborative Filtering:\n",
    "#User-Based: Recommends items based on similar users' preferences.\n",
    "#Item-Based: Recommends items based on similarity between items.\n",
    "\n",
    "## 2. Collaborative Filtering:\n",
    "#Predicts user preferences based on the preferences of similar users (user-based) or similar items (item-based). Uses historical interaction data for personalized recommendations."
   ]
  },
  {
   "cell_type": "code",
   "execution_count": null,
   "id": "45d69171",
   "metadata": {},
   "outputs": [],
   "source": []
  }
 ],
 "metadata": {
  "kernelspec": {
   "display_name": "Python 3 (ipykernel)",
   "language": "python",
   "name": "python3"
  },
  "language_info": {
   "codemirror_mode": {
    "name": "ipython",
    "version": 3
   },
   "file_extension": ".py",
   "mimetype": "text/x-python",
   "name": "python",
   "nbconvert_exporter": "python",
   "pygments_lexer": "ipython3",
   "version": "3.9.13"
  }
 },
 "nbformat": 4,
 "nbformat_minor": 5
}
